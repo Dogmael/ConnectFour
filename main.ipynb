{
 "cells": [
  {
   "cell_type": "code",
   "execution_count": 5,
   "metadata": {},
   "outputs": [],
   "source": [
    "import numpy as np\n",
    "\n",
    "grid = np.zeros((6,7), dtype = int)"
   ]
  },
  {
   "attachments": {},
   "cell_type": "markdown",
   "metadata": {},
   "source": [
    "0 -> . <br>\n",
    "1 -> x <br>\n",
    "2 -> o"
   ]
  },
  {
   "cell_type": "code",
   "execution_count": 28,
   "metadata": {},
   "outputs": [
    {
     "name": "stdout",
     "output_type": "stream",
     "text": [
      "| .| .| .| .| .| .| .|\n",
      "| .| .| .| .| .| .| .|\n",
      "| .| .| .| .| .| .| .|\n",
      "| .| .| .| .| .| .| .|\n",
      "| .| .| .| .| .| .| .|\n",
      "| .| .| .| .| .| o| x|\n"
     ]
    }
   ],
   "source": [
    "grid[5,6] = 1\n",
    "grid[5,5] = 2\n",
    "\n",
    "\n",
    "def print_grid(grid) :\n",
    "    for row in range(6) : #we re going threw the rows\n",
    "        for coloumn in range(7) : #we re going threw the column \n",
    "            if grid[row,coloumn] == 0 : #represent an empty cell\n",
    "                print(\"| .\", end='')# end='' -> delete default line break after each print()\n",
    "            if grid[row,coloumn] == 1 :#represent the coins of player 1\n",
    "                print(\"| x\", end='')\n",
    "            if grid[row,coloumn] == 2 :#represent the coins of player 2\n",
    "                print(\"| o\", end='')\n",
    "        print(\"|\")\n",
    "\n",
    "print_grid(grid)\n",
    "\n"
   ]
  },
  {
   "cell_type": "code",
   "execution_count": 35,
   "metadata": {},
   "outputs": [
    {
     "name": "stdout",
     "output_type": "stream",
     "text": [
      "| .| .| .| .| .| .| .|\n",
      "| .| .| .| .| .| .| .|\n",
      "| .| .| .| .| .| .| .|\n",
      "| .| .| .| x| .| .| .|\n",
      "| .| .| .| x| .| .| .|\n",
      "| .| .| .| .| .| o| x|\n",
      "\n",
      "\n",
      "| .| .| .| .| .| .| .|\n",
      "| .| .| .| .| .| .| .|\n",
      "| .| .| .| .| .| .| .|\n",
      "| .| .| .| o| .| .| .|\n",
      "| .| .| .| x| .| .| .|\n",
      "| .| .| .| .| .| o| x|\n"
     ]
    }
   ],
   "source": [
    "def add_coin(player_num,coords) : # coords -> tuple (row,column)\n",
    "    grid[coords[0],coords[1]] = player_num\n",
    "    return grid\n",
    "\n",
    "print_grid(grid)\n",
    "print(\"\\n\")\n",
    "add_coin(2,(3,3))\n",
    "print_grid(grid)"
   ]
  },
  {
   "cell_type": "code",
   "execution_count": null,
   "metadata": {},
   "outputs": [],
   "source": [
    "def reset_grid():\n",
    "    return np.zeros((6,7), dtype = int)"
   ]
  },
  {
   "cell_type": "code",
   "execution_count": 114,
   "metadata": {},
   "outputs": [],
   "source": [
    "class Grid :\n",
    "    # grid = np.zeros((6,7), dtype = int)\n",
    "    \n",
    "    def __init__(self) :\n",
    "        self.grid = np.zeros((6,7), dtype = int) # self.grid represent the grid, we're using \".self\" because it's an class attribute\n",
    "\n",
    "    def print_grid(self) :\n",
    "        print(\"  1  2  3  4  5  6  7\")\n",
    "        for row in range(6) : #we re going threw the rows\n",
    "            for coloumn in range(7) : #we re going threw the column \n",
    "                if self.grid[row,coloumn] == 0 : #represent an empty cell\n",
    "                    print(\"| .\", end='')# end='' -> delete default line break after each print()\n",
    "                if self.grid[row,coloumn] == 1 :#represent the coins of player 1\n",
    "                    print(\"| x\", end='')\n",
    "                if self.grid[row,coloumn] == 2 :#represent the coins of player 2\n",
    "                    print(\"| o\", end='')\n",
    "            print(\"|\")\n",
    "\n",
    "    def add_coin(self, player_num,row,column) : # coords -> tuple : (row,column)\n",
    "        self.grid[row,column] = player_num\n",
    "        return self.grid\n"
   ]
  },
  {
   "cell_type": "code",
   "execution_count": 115,
   "metadata": {},
   "outputs": [
    {
     "name": "stdout",
     "output_type": "stream",
     "text": [
      "  1  2  3  4  5  6  7\n",
      "| .| .| .| .| .| .| .|\n",
      "| .| .| .| .| .| .| .|\n",
      "| .| .| .| .| .| .| .|\n",
      "| .| .| .| .| .| .| .|\n",
      "| .| .| .| .| .| .| .|\n",
      "| .| .| .| .| .| .| .|\n",
      "  1  2  3  4  5  6  7\n",
      "| .| .| .| .| .| .| .|\n",
      "| .| .| .| .| .| .| .|\n",
      "| .| .| .| .| .| .| .|\n",
      "| .| .| .| x| .| .| .|\n",
      "| .| .| .| .| .| .| .|\n",
      "| .| .| .| .| .| .| .|\n"
     ]
    }
   ],
   "source": [
    "grid1 = Grid() #On instentie un objet de notre class grid\n",
    "grid1.print_grid() #On appel la méthode \"print_grid\" sur notre instance grid1\n",
    "grid1.add_coin(1,3,3)\n",
    "grid1.print_grid() #On appel la méthode \"print_grid\" sur notre instance grid1"
   ]
  },
  {
   "attachments": {},
   "cell_type": "markdown",
   "metadata": {},
   "source": [
    "on crée/init la grille\n",
    "on initialise la variable current_player() à 1\n",
    "on initialise win à false\n",
    "\n",
    "while  win == false\n",
    "    print_grid\n",
    "    on demande au joueur ou il veut mettre sont jeton\n",
    "    add_coin()\n",
    "    on demande si il a gagné\n",
    "    si oui on update win à true\n",
    "    sinon on update current_player()\n",
    "\n",
    "on affiche le joueur gagnant avec message de félicitations"
   ]
  },
  {
   "cell_type": "code",
   "execution_count": 103,
   "metadata": {},
   "outputs": [
    {
     "name": "stdout",
     "output_type": "stream",
     "text": [
      "| .| .| .| .| .| .| .|\n",
      "| .| .| .| .| .| .| .|\n",
      "| .| .| .| .| .| .| .|\n",
      "| .| .| .| .| .| .| .|\n",
      "| .| .| .| .| .| .| .|\n",
      "| .| .| .| .| .| .| .|\n",
      "Player number 1 where do you want put your coin ?\n",
      "Entrer the line number\n",
      "Entrer the column number\n",
      "Do you win the game ? (y/n)\n",
      "| .| .| .| .| .| .| .|\n",
      "| .| x| .| .| .| .| .|\n",
      "| .| .| .| .| .| .| .|\n",
      "| .| .| .| .| .| .| .|\n",
      "| .| .| .| .| .| .| .|\n",
      "| .| .| .| .| .| .| .|\n",
      "Player number 2 where do you want put your coin ?\n",
      "Entrer the line number\n",
      "Entrer the column number\n",
      "Do you win the game ? (y/n)\n",
      "| .| .| .| .| .| .| .|\n",
      "| .| x| .| .| .| .| .|\n",
      "| .| .| .| .| .| .| .|\n",
      "| .| .| .| .| .| .| .|\n",
      "| .| .| .| .| o| .| .|\n",
      "| .| .| .| .| .| .| .|\n",
      "Player number 1 where do you want put your coin ?\n",
      "Entrer the line number\n",
      "Entrer the column number\n",
      "Do you win the game ? (y/n)\n",
      "| .| .| .| .| .| .| .|\n",
      "| .| x| .| .| .| .| .|\n",
      "| .| .| .| .| .| .| .|\n",
      "| .| .| .| .| .| .| .|\n",
      "| .| .| .| .| o| .| .|\n",
      "| .| .| .| .| .| .| .|\n",
      "Player number 2 where do you want put your coin ?\n",
      "Entrer the line number\n",
      "Entrer the column number\n",
      "Do you win the game ? (y/n)\n",
      "| .| .| .| .| .| .| .|\n",
      "| .| o| .| .| .| .| .|\n",
      "| .| .| .| .| .| .| .|\n",
      "| .| .| .| .| .| .| .|\n",
      "| .| .| .| .| o| .| .|\n",
      "| .| .| .| .| .| .| .|\n",
      "Player number 1 where do you want put your coin ?\n",
      "Entrer the line number\n",
      "Entrer the column number\n",
      "Do you win the game ? (y/n)\n",
      "| x| .| .| .| .| .| .|\n",
      "| .| o| .| .| .| .| .|\n",
      "| .| .| .| .| .| .| .|\n",
      "| .| .| .| .| .| .| .|\n",
      "| .| .| .| .| o| .| .|\n",
      "| .| .| .| .| .| .| .|\n",
      "Player number 2 where do you want put your coin ?\n",
      "Entrer the line number\n",
      "Entrer the column number\n",
      "Do you win the game ? (y/n)\n",
      "Congratulation player2 for your victory!\n"
     ]
    }
   ],
   "source": [
    "grid = Grid() #on crée/init la grille\n",
    "current_player = 1 #on initialise la variable current_player() à 1\n",
    "win = False  #on initialise win à false\n",
    "\n",
    "while  win == False :\n",
    "    grid.print_grid()\n",
    "    \n",
    "    print(\"Player number \" + str(current_player) + \" where do you want put your coin ?\") #on demande au joueur ou il veut mettre sont jeton\n",
    "    print(\"Entrer the line number\")\n",
    "    row = int(input()) - 1\n",
    "    print(\"Entrer the column number\")\n",
    "    column = int(input()) - 1\n",
    "    grid.add_coin(current_player,row,column)\n",
    "    print(\"Do you win the game ? (y/n)\")\n",
    "    answer = input()\n",
    "    if answer != \"y\" :\n",
    "        current_player = current_player%2 + 1\n",
    "    else :\n",
    "        win = True \n",
    "\n",
    "print(\"Congratulation player\" + str(current_player) + \" for your victory!\")"
   ]
  },
  {
   "cell_type": "code",
   "execution_count": 85,
   "metadata": {},
   "outputs": [
    {
     "data": {
      "text/plain": [
       "2"
      ]
     },
     "execution_count": 85,
     "metadata": {},
     "output_type": "execute_result"
    }
   ],
   "source": [
    "a = 1\n",
    "a = a%2 + 1\n",
    "a"
   ]
  },
  {
   "cell_type": "code",
   "execution_count": null,
   "metadata": {},
   "outputs": [],
   "source": [
    "# Step 1: Set up the game board\n",
    "grid = [[' ' for _ in range(7)] for _ in range(6)]  # 6 rows, 7 columns\n",
    "\n",
    "# Step 2: Define the gravity loop\n",
    "for col in range(7):  # iterate through each column\n",
    "    # Step 3: Check for empty slots\n",
    "    for row in range(5, -1, -1):  # iterate from bottom to top\n",
    "        if grid[row][col] == ' ':  # empty slot found\n",
    "            # Step 4: Move the game piece\n",
    "            grid[row][col] = 'X'  # assuming player X's turn\n",
    "            break  # break out of the gravity loop for this column\n",
    "\n",
    "# Step 5: Repeat the process (optional, if needed)\n",
    "# Continue the gravity loop for each column until all pieces fall to their lowest positions\n"
   ]
  }
 ],
 "metadata": {
  "kernelspec": {
   "display_name": "base",
   "language": "python",
   "name": "python3"
  },
  "language_info": {
   "codemirror_mode": {
    "name": "ipython",
    "version": 3
   },
   "file_extension": ".py",
   "mimetype": "text/x-python",
   "name": "python",
   "nbconvert_exporter": "python",
   "pygments_lexer": "ipython3",
   "version": "3.10.10"
  },
  "orig_nbformat": 4
 },
 "nbformat": 4,
 "nbformat_minor": 2
}
